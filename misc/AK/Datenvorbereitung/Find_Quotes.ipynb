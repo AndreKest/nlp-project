{
 "cells": [
  {
   "cell_type": "code",
   "execution_count": 9,
   "metadata": {},
   "outputs": [],
   "source": [
    "import re\n",
    "import regex\n",
    "\n",
    "import numpy as np\n",
    "import spacy"
   ]
  },
  {
   "cell_type": "code",
   "execution_count": 10,
   "metadata": {},
   "outputs": [],
   "source": [
    "pattern = r'(\\\"(?:[A-Za-z0-9\\s]+)+[\\.!?]\\s(?:[A-Za-z0-9\\s\\.!?]+)+\\\")'\n",
    "# pattern = r'\\\"(.*?)\\\"'"
   ]
  },
  {
   "cell_type": "code",
   "execution_count": 11,
   "metadata": {},
   "outputs": [
    {
     "data": {
      "text/plain": [
       "'Dies ist ein Test. \"In Anfuehrungszeichen! Ich bin kein neuer Satz!\" Ich bin wieder ein neuer Satz. \"Ich stehe zwischen Anfuehrungszeichen. Ich darf deswegen kein neuer Satz sein.\" Ich bin wieder ein neuer Satz!'"
      ]
     },
     "execution_count": 11,
     "metadata": {},
     "output_type": "execute_result"
    }
   ],
   "source": [
    "text = \"Dies ist ein Test. \\\"Hier aber nicht . Glaube ich.\\\" Dies ist noch ein Test.\"\n",
    "text = \"Dies ist ein Test. \\\"In Anfuehrungszeichen! Ich bin kein neuer Satz!\\\" Ich bin wieder ein neuer Satz. \\\"Ich stehe zwischen Anfuehrungszeichen. Ich darf deswegen kein neuer Satz sein.\\\" Ich bin wieder ein neuer Satz!\"\n",
    "text"
   ]
  },
  {
   "cell_type": "code",
   "execution_count": 12,
   "metadata": {},
   "outputs": [
    {
     "name": "stdout",
     "output_type": "stream",
     "text": [
      "['\"In Anfuehrungszeichen! Ich bin kein neuer Satz!\"', '\"Ich stehe zwischen Anfuehrungszeichen. Ich darf deswegen kein neuer Satz sein.\"']\n"
     ]
    }
   ],
   "source": [
    "print(re.findall(pattern, text))"
   ]
  },
  {
   "cell_type": "code",
   "execution_count": 13,
   "metadata": {},
   "outputs": [
    {
     "name": "stdout",
     "output_type": "stream",
     "text": [
      "<callable_iterator object at 0x7fc4e73dc370>\n",
      "<re.Match object; span=(19, 68), match='\"In Anfuehrungszeichen! Ich bin kein neuer Satz!\">\n",
      "<re.Match object; span=(100, 180), match='\"Ich stehe zwischen Anfuehrungszeichen. Ich darf >\n"
     ]
    }
   ],
   "source": [
    "iter_matches = re.finditer(pattern, text)\n",
    "print (iter_matches)\n",
    "for hit in iter_matches:\n",
    "    print (hit)"
   ]
  },
  {
   "cell_type": "code",
   "execution_count": 14,
   "metadata": {},
   "outputs": [
    {
     "data": {
      "text/plain": [
       "<pysbd.utils.PySBDFactory at 0x7fc4e6b099a0>"
      ]
     },
     "execution_count": 14,
     "metadata": {},
     "output_type": "execute_result"
    }
   ],
   "source": [
    "from pysbd.utils import PySBDFactory\n",
    "\n",
    "nlp = spacy.load('de_core_news_lg')\n",
    "\n",
    "@nlp.factory(\"pysbd_sentence_boundaries\", default_config={\"some_setting\": True})\n",
    "def create_my_component(nlp, name, some_setting):\n",
    "     return PySBDFactory(nlp, language='de')\n",
    "\n",
    "# add as a spacy pipeline component\n",
    "nlp.add_pipe('pysbd_sentence_boundaries', before='parser')\n",
    "                "
   ]
  },
  {
   "cell_type": "code",
   "execution_count": 17,
   "metadata": {},
   "outputs": [
    {
     "name": "stdout",
     "output_type": "stream",
     "text": [
      "Dies ist ein Test. \"In Anfuehrungszeichen! Ich bin kein neuer Satz!\" Ich bin wieder ein neuer Satz. \"Ich stehe zwischen Anfuehrungszeichen. Ich darf deswegen kein neuer Satz sein.\" Ich bin wieder ein neuer Satz! \n",
      "\n",
      "Dies ist ein Test.\n",
      "###############\n",
      "\"In Anfuehrungszeichen! Ich bin kein neuer Satz!\"\n",
      "###############\n",
      "Ich bin wieder ein neuer Satz.\n",
      "###############\n",
      "\"Ich stehe zwischen Anfuehrungszeichen. Ich darf deswegen kein neuer Satz sein.\"\n",
      "###############\n",
      "Ich bin wieder ein neuer Satz!\n",
      "###############\n"
     ]
    }
   ],
   "source": [
    "text = \"Dies ist ein Test. \\\"In Anfuehrungszeichen! Ich bin kein neuer Satz!\\\" Ich bin wieder ein neuer Satz. \\\"Ich stehe zwischen Anfuehrungszeichen. Ich darf deswegen kein neuer Satz sein.\\\" Ich bin wieder ein neuer Satz!\"\n",
    "text = \"In Abs. 2! Unter dem Kapitel.\"\n",
    "doc = nlp(text)\n",
    "\n",
    "print(text, '\\n')\n",
    "for sent in doc.sents:\n",
    "    print(sent)\n",
    "    print(\"###############\")"
   ]
  },
  {
   "cell_type": "code",
   "execution_count": 16,
   "metadata": {},
   "outputs": [
    {
     "name": "stdout",
     "output_type": "stream",
     "text": [
      "Dies ist für ein Test. \"In Anführungszeichen! Ich bin kein neuer Satz!\" Ich bin wieder ein neuer Satz. \"Ich stehe zwischen Anführungszeichen. Art. 5. ist auch Hier. Ich darf deswegen kein neuer Satz sein. Ich darf auch nicht!\" Ich bin wieder ein neuer Satz! \n",
      "\n",
      "Dies ist für ein Test.\n",
      "###############\n",
      "\"In Anführungszeichen! Ich bin kein neuer Satz!\"\n",
      "###############\n",
      "Ich bin wieder ein neuer Satz.\n",
      "###############\n",
      "\"Ich stehe zwischen Anführungszeichen. Art. 5. ist auch Hier. Ich darf deswegen kein neuer Satz sein. Ich darf auch nicht!\"\n",
      "###############\n",
      "Ich bin wieder ein neuer Satz!\n",
      "###############\n"
     ]
    }
   ],
   "source": [
    "text = \"Dies ist für ein Test. \\\"In Anführungszeichen! Ich bin kein neuer Satz!\\\" Ich bin wieder ein neuer Satz. \\\"Ich stehe zwischen Anführungszeichen. Art. 5. ist auch Hier. Ich darf deswegen kein neuer Satz sein. Ich darf auch nicht!\\\" Ich bin wieder ein neuer Satz!\"\n",
    "doc = nlp(text)\n",
    "\n",
    "print(text, '\\n')\n",
    "for sent in doc.sents:\n",
    "    print(sent)\n",
    "    print(\"###############\")"
   ]
  }
 ],
 "metadata": {
  "interpreter": {
   "hash": "194c6af805e7b83111330e36dae3393678c2fe444110e28eacf0ade677259a96"
  },
  "kernelspec": {
   "display_name": "Python 3.9.7 64-bit ('AI': conda)",
   "language": "python",
   "name": "python3"
  },
  "language_info": {
   "codemirror_mode": {
    "name": "ipython",
    "version": 3
   },
   "file_extension": ".py",
   "mimetype": "text/x-python",
   "name": "python",
   "nbconvert_exporter": "python",
   "pygments_lexer": "ipython3",
   "version": "3.9.7"
  },
  "orig_nbformat": 4
 },
 "nbformat": 4,
 "nbformat_minor": 2
}
