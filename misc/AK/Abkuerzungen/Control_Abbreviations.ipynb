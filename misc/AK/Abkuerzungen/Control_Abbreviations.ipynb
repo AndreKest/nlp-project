{
 "cells": [
  {
   "cell_type": "code",
   "execution_count": 99,
   "metadata": {},
   "outputs": [],
   "source": [
    "import numpy as np\n",
    "import matplotlib.pyplot as plt\n",
    "import seaborn as sns"
   ]
  },
  {
   "cell_type": "code",
   "execution_count": 100,
   "metadata": {},
   "outputs": [],
   "source": [
    "values = np.load('./Values.npy')\n",
    "counts = np.load('./Counts.npy')"
   ]
  },
  {
   "cell_type": "code",
   "execution_count": 101,
   "metadata": {},
   "outputs": [],
   "source": [
    "dct = dict(zip(values, counts))"
   ]
  },
  {
   "cell_type": "code",
   "execution_count": 102,
   "metadata": {},
   "outputs": [],
   "source": [
    "def delete_entry(dct, key):\n",
    "    dct.pop(key+'.')\n",
    "    return dct"
   ]
  },
  {
   "cell_type": "code",
   "execution_count": 103,
   "metadata": {},
   "outputs": [],
   "source": [
    "def save_Abbreviations(dct):\n",
    "    f_values = open('./Abbreviations_Values.txt', 'w')\n",
    "    f_counts = open('./Abbreviations_Counts.txt', 'w')\n",
    "    \n",
    "    for val, key in dct.items():\n",
    "        f_values.write(val+'\\n')\n",
    "        f_counts.write(str(key)+'\\n')\n",
    "\n",
    "    f_values.close()\n",
    "    f_counts.close()"
   ]
  },
  {
   "cell_type": "code",
   "execution_count": 104,
   "metadata": {},
   "outputs": [],
   "source": [
    "def read_Abbreviations():\n",
    "    f_values = open('./Abbreviations_Values.txt', 'r')\n",
    "    f_counts = open('./Abbreviations_Counts.txt', 'r')\n",
    "    \n",
    "    values = []\n",
    "    keys = []\n",
    "\n",
    "    for line in f_values:\n",
    "        values.append(line.rstrip())\n",
    "    \n",
    "    for line in f_counts:\n",
    "        keys.append(int(line.rstrip()))\n",
    "\n",
    "    f_values.close()\n",
    "    f_counts.close()\n",
    "    \n",
    "    return dict(zip(values, keys))\n"
   ]
  },
  {
   "cell_type": "code",
   "execution_count": 105,
   "metadata": {},
   "outputs": [],
   "source": [
    "# start vy 1001\n",
    "i = 0"
   ]
  },
  {
   "cell_type": "code",
   "execution_count": 287,
   "metadata": {},
   "outputs": [
    {
     "name": "stdout",
     "output_type": "stream",
     "text": [
      "Show image 470 till 479\n"
     ]
    }
   ],
   "source": [
    "%matplotlib qt\n",
    "sns.barplot(x=list(dct.keys())[i:i+10], y=list(dct.values())[i:i+10])\n",
    "print(\"Show image \" + str(i) + \" till \" + str(i+10-1))\n",
    "i += 10"
   ]
  },
  {
   "cell_type": "code",
   "execution_count": 292,
   "metadata": {},
   "outputs": [],
   "source": [
    "string = input(\"Key: \")\n",
    "dct = delete_entry(dct, string)\n",
    "\n",
    "save_Abbreviations(dct)"
   ]
  },
  {
   "cell_type": "code",
   "execution_count": 98,
   "metadata": {},
   "outputs": [
    {
     "data": {
      "text/plain": [
       "<AxesSubplot:>"
      ]
     },
     "execution_count": 98,
     "metadata": {},
     "output_type": "execute_result"
    }
   ],
   "source": [
    "i -= 10\n",
    "sns.barplot(x=list(dct.keys())[i:i+10], y=list(dct.values())[i:i+10])"
   ]
  }
 ],
 "metadata": {
  "interpreter": {
   "hash": "194c6af805e7b83111330e36dae3393678c2fe444110e28eacf0ade677259a96"
  },
  "kernelspec": {
   "display_name": "Python 3.9.7 64-bit ('AI': conda)",
   "language": "python",
   "name": "python3"
  },
  "language_info": {
   "codemirror_mode": {
    "name": "ipython",
    "version": 3
   },
   "file_extension": ".py",
   "mimetype": "text/x-python",
   "name": "python",
   "nbconvert_exporter": "python",
   "pygments_lexer": "ipython3",
   "version": "3.9.7"
  },
  "orig_nbformat": 4
 },
 "nbformat": 4,
 "nbformat_minor": 2
}
