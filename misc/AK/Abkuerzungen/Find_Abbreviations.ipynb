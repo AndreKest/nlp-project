{
 "cells": [
  {
   "cell_type": "code",
   "execution_count": 117,
   "metadata": {},
   "outputs": [],
   "source": [
    "from bs4 import BeautifulSoup\n",
    "\n",
    "import gzip\n",
    "\n",
    "import json\n",
    "\n",
    "import os\n",
    "import glob\n",
    "\n",
    "import re\n",
    "from collections import Counter\n",
    "\n",
    "import numpy as np\n",
    "import matplotlib.pyplot as plt\n",
    "\n",
    "import nltk"
   ]
  },
  {
   "cell_type": "code",
   "execution_count": 18,
   "metadata": {},
   "outputs": [],
   "source": [
    "DIR_DATA = \"/Users/andrekestler/Library/Mobile Documents/com~apple~CloudDocs/Library/Künstliche Intelligenz/1. Semester/Natural Language Processing/nlp-projekt/data/top100/\"\n",
    "DIR_TMP = \"/Users/andrekestler/Library/Mobile Documents/com~apple~CloudDocs/Library/Künstliche Intelligenz/1. Semester/Natural Language Processing/nlp-projekt/tmp/\"\n",
    "CHARACTER_ENCODING = \"UTF-8\"\n",
    "\n",
    "FILE = \"2019-02-19_oldp_cases.json\"\n",
    "AMOUNT_OF_FILES = 10\n",
    "\n",
    "DEBUG_FILE = \"180229.txt\""
   ]
  },
  {
   "cell_type": "code",
   "execution_count": 19,
   "metadata": {},
   "outputs": [],
   "source": [
    "# Unzip\n",
    "import gzip\n",
    "import shutil\n",
    "with gzip.open(os.path.join(DIR_DATA, FILE + \".gz\"), 'rb') as f_in:\n",
    "    with open(os.path.join(DIR_TMP, FILE), 'wb') as f_out:\n",
    "        shutil.copyfileobj(f_in, f_out)"
   ]
  },
  {
   "cell_type": "code",
   "execution_count": 20,
   "metadata": {},
   "outputs": [],
   "source": [
    "# Workaround Span-Issue - Ziemlich hacky\n",
    "# <span>Hallo \n",
    "# => <span> Hallo\n",
    "# </span>Hallo\n",
    "# => </span> Hallo\n",
    "# Wird nur in die .txt geschrieben, nicht in die .html\n",
    "def addWhitespacesAfterEverySpanTag(soup):\n",
    "    for index in soup.find_all('span'):\n",
    "        index.append(\" \")\n",
    "    return soup"
   ]
  },
  {
   "cell_type": "code",
   "execution_count": 21,
   "metadata": {},
   "outputs": [],
   "source": [
    "with open(os.path.join(DIR_TMP, FILE), mode=\"r\", encoding=CHARACTER_ENCODING) as f:\n",
    "    for _ in range(AMOUNT_OF_FILES):\n",
    "        line = f.readline()\n",
    "        parsed_line = json.loads(line)\n",
    "\n",
    "        id = parsed_line[\"id\"]\n",
    "        content = parsed_line[\"content\"]\n",
    "\n",
    "        soup = BeautifulSoup(content, \"lxml\")\n",
    "\n",
    "        # Mit Tags == Web\n",
    "        fwrite = open(os.path.join(DIR_TMP, str(id) + \".html\"), \"w\", encoding=CHARACTER_ENCODING)\n",
    "        fwrite.write(str(soup))\n",
    "        fwrite.close()\n",
    "\n",
    "        # Ohne Tags == Soup\n",
    "        soup = addWhitespacesAfterEverySpanTag(soup)\n",
    "\n",
    "        fwrite = open(os.path.join(DIR_TMP, str(id) + \".txt\"), \"w\", encoding=CHARACTER_ENCODING)\n",
    "        fwrite.write(soup.text)\n",
    "        fwrite.close()"
   ]
  },
  {
   "cell_type": "code",
   "execution_count": 22,
   "metadata": {},
   "outputs": [
    {
     "name": "stdout",
     "output_type": "stream",
     "text": [
      "Tenor\n",
      "Der Antrag der Kläger auf Zulassung der Berufung gegen das auf die mündliche Verhandlung vom 22.11.2018 ergangene Urteil des Verwaltungsgerichts Düsseldorf wird abgelehnt.\n",
      "Die Kläger tragen die Kosten des Zulassungsverfahrens, für das Gerichtskosten nicht erhoben werden.\n",
      " \n",
      "1 Der Antrag der Kläger auf Zulassung der Berufung hat keinen Erfolg.\n",
      "2 Die Berufung ist nicht wegen der allein geltend gemachten grundsätzlichen Bedeutung der Rechtssache zuzulassen (§ 78 Abs. 3 Nr. 1 AsylG). Grundsätzliche Bedeutung im Sinne des § 78 Abs. 3 Nr. 1 AsylG hat eine Rechtssache nur dann, wenn sie eine bisher höchstrichterlich oder obergerichtlich nicht beantwortete Rechtsfrage oder eine im Bereich der Tatsachenfeststellung bisher obergerichtlich nicht geklärte Frage von allgemeiner Bedeutung aufwirft, die sich in dem angestrebten Berufungsverfahren stellen würde und die im Interesse der Einheitlichkeit der Rechtsprechung oder der Fortentwicklung des Rechts berufungsgerichtlicher Klärung bedarf. Für die Darlegung dieser Voraussetzungen ist neben der Formulierung einer Rechts- oder Tatsachenfrage erforderlich, dass der Zulassungsantrag konkret auf die Klärungsbedürftigkeit und -fähigkeit der Rechts- bzw. Tatsachenfrage sowie ihre über den Einzelfall hinausgehende Bedeutung eingeht.\n",
      "3 Vgl. OVG NRW, Beschluss vom 26.4.2018 – 4 A 869/16.A –, juris, Rn. 4 f., m. w. N.\n",
      "4 Eine auf tatsächliche Verhältnisse gestützte Grundsatzrüge erfordert überdies die Angabe konkreter Anhaltspunkte dafür, dass die für die Entscheidung erheblichen Tatsachen etwa im Hinblick auf hierzu vorliegende gegensätzliche Auskünfte oder abweichende Rechtsprechung einer unterschiedlichen Würdigung zugänglich sind. Insoweit ist es Aufgabe des Rechtsmittelführers, durch die Benennung von bestimmten begründeten Informationen, Auskünften, Presseberichten oder sonstigen Erkenntnisquellen zumindest eine gewisse Wahrscheinlichkeit dafür darzulegen, dass nicht die Feststellungen, Erkenntnisse und Einschätzungen des Verwaltungsgerichts, sondern die gegenteiligen Bewertungen in der Zulassungsschrift zutreffend sind, so dass es zur Klärung der sich insoweit stellenden Fragen der Durchführung eines Berufungsverfahrens bedarf.\n",
      "5 Vgl. OVG NRW, Beschluss vom 26.4.2018 – 4 A 869/16.A –, juris, Rn. 6 f., m. w. N.\n",
      "6 Diesen Darlegungsanforderungen genügt die Antragsbegründung nicht. Die von den Klägern aufgeworfene Frage,\n",
      "7 ob Angehörigen der schiitischen Minderheit, welche bereits in Pakistan aufgrund ihrer schiitischen Glaubenszugehörigkeit bedroht wurden, im Falle einer Rückkehr nach Pakistan ein ernsthafter Schaden im Sinne des § 4 Abs. 1 Nr. 2 Asylgesetz droht,\n",
      "8 führt nicht zur Berufungszulassung. Die Kläger legen die Klärungsbedürftigkeit der Frage nicht schlüssig dar. Mit den Schilderungen zur Bedrohung vor der Ausreise aus Pakistan und zur fehlenden Existenzsicherungsmöglichkeit als Kosmetikverkäufer außerhalb von Karachi erschüttern sie nicht die Einschätzung des Verwaltungsgerichts, auch im Hinblick auf den subsidiären Schutz könnten die Kläger auf die Möglichkeit der Inanspruchnahme internen Schutzes verwiesen werden. Sie könnten sich etwaigen Bedrohungen durch eine Flucht innerhalb Pakistans entziehen, der Kläger zu 1. sei auch in anderen Landesteilen Pakistans zur Sicherstellung des Lebensunterhalts seiner Familie in der Lage. Es besteht kein Anhalt dafür, dass schiitischen Rückkehrern nach Pakistan die Sicherstellung ihres Existenzminimums generell nicht möglich oder unzumutbar sein könnte. Insoweit benennen die Kläger bereits keine Erkenntnisquellen, aus denen sich eine generell fehlende Existenzsicherungsmöglichkeit für arbeitsfähige schiitische Rückkehrer ergeben könnte. Es ist nicht Aufgabe des Senats, sondern obliegt aufgrund ihrer Darlegungslast gemäß § 78 Abs. 4 Satz 4 AsylG den Klägern, diejenigen Informationen aufzufinden und konkret zu benennen, die aus ihrer Sicht für die Beantwortung der von ihnen aufgeworfenen Frage von Bedeutung sind.\n",
      "9 Die von den Klägern der Sache nach geltend gemachten Zweifel an der Richtigkeit des Urteils sind kein Zulassungsgrund gemäß § 78 Abs. 3 AsylG. Andere Zulassungsgründe, insbesondere Verfahrensmängel, sind selbst sinngemäß nicht geltend gemacht. Dies gilt auch insoweit, als der Kläger die Sachverhalts- und Beweiswürdigung des Verwaltungsgerichts in Zweifel zieht. Diese ist dem sachlichen Recht zuzuordnen und rechtfertigt von vornherein nicht die Zulassung der Berufung wegen eines Verfahrensmangels.\n",
      "10 Vgl. OVG NRW, Beschluss vom 11.12.2018 ‒ 4 A 3890/18.A ‒, juris, Rn. 11 f., m. w. N.\n",
      "11 Die Kostenentscheidung beruht auf §§ 154 Abs. 2, 159 Satz 1 VwGO in Verbindung mit § 100 Abs. 1 ZPO und § 83b AsylG.\n",
      "12 Dieser Beschluss ist gemäß § 80 AsylG unanfechtbar.\n",
      "\n"
     ]
    }
   ],
   "source": [
    "with open(os.path.join(DIR_TMP, DEBUG_FILE), mode=\"r\", encoding=CHARACTER_ENCODING) as f:\n",
    "    content = f.read()\n",
    "    print(content)"
   ]
  },
  {
   "cell_type": "code",
   "execution_count": 58,
   "metadata": {},
   "outputs": [
    {
     "name": "stdout",
     "output_type": "stream",
     "text": [
      "['Art.', 'das.', 'Aufl.', 'm.', 'w.', 'N.']\n"
     ]
    }
   ],
   "source": [
    "# pattern for Aufl., Art., x., X., ...\n",
    "# wihout end of the sentence r'[A-Za-z]+\\.{1,}\\s'\n",
    "pattern1 = r'\\b[A-Za-z]+\\.{1,}'\n",
    "\n",
    "text = \"Unter Art. 5 der Gesamtzahlen geht das. Die Nummer ist unter Aufl. 10 erschienen m. w. N. Test Gebühren.\"\n",
    "print(re.findall(pattern1, text))\n"
   ]
  },
  {
   "cell_type": "code",
   "execution_count": 24,
   "metadata": {},
   "outputs": [
    {
     "name": "stdout",
     "output_type": "stream",
     "text": [
      "['H.P.', 'I.B.M.']\n"
     ]
    }
   ],
   "source": [
    "# pattern for x.x.X.\n",
    "pattern2 = r'\\b(?:[A-Za-z]\\.){2,}'\n",
    "\n",
    "text = \"Extract only abreaviations like H.P. and I.B.M.\"\n",
    "print(re.findall(pattern2, text))"
   ]
  },
  {
   "cell_type": "code",
   "execution_count": 25,
   "metadata": {},
   "outputs": [
    {
     "name": "stdout",
     "output_type": "stream",
     "text": [
      "['H. P.', 'I. B. M.', 'ime. le.', 'H. P.', 'a. a. O. Rn.']\n"
     ]
    }
   ],
   "source": [
    "# pattern for x. x. xxx.\n",
    "pattern3 = r'\\b(?:[A-Za-z]{1,}\\.\\s){1,}[A-Za-z]{1,}\\.'\n",
    "\n",
    "text = \"Extract only abreaviations like H. P. and I. B. M. and some ime. le. like H. P. nun geht es auch weiter a. a. O. Rn. oder nicht\"\n",
    "print(re.findall(pattern3, text))"
   ]
  },
  {
   "cell_type": "code",
   "execution_count": 26,
   "metadata": {},
   "outputs": [
    {
     "data": {
      "image/png": "[encoded data removed]",
      "text/plain": [
       "<Figure size 432x288 with 1 Axes>"
      ]
     },
     "metadata": {
      "needs_background": "light"
     },
     "output_type": "display_data"
    }
   ],
   "source": [
    "val, cnt = np.unique(re.findall(pattern3, text), return_counts=True)\n",
    "plt.hist(val, weights=cnt)\n",
    "plt.show()"
   ]
  },
  {
   "cell_type": "code",
   "execution_count": 69,
   "metadata": {},
   "outputs": [],
   "source": [
    "pattern1 = r'\\b[A-Za-z]+\\.{1,}'\n",
    "pattern2 = r'\\b(?:[A-Za-z]\\.){2,}'\n",
    "pattern3 = r'\\b(?:[A-Za-z]{1,}\\.\\s){1,}[A-Za-z]{1,}\\.'"
   ]
  },
  {
   "cell_type": "code",
   "execution_count": 120,
   "metadata": {},
   "outputs": [
    {
     "name": "stdout",
     "output_type": "stream",
     "text": [
      "Found  20568209  patterns\n"
     ]
    }
   ],
   "source": [
    "# read content\n",
    "DIR_PATH = \"/Users/andrekestler/Library/Mobile Documents/com~apple~CloudDocs/Library/Künstliche Intelligenz/1. Semester/Natural Language Processing/nlp-projekt/data/Dataset_Content/\"\n",
    "# DIR_PATH = \"/Users/andrekestler/Library/Mobile Documents/com~apple~CloudDocs/Library/Künstliche Intelligenz/1. Semester/Natural Language Processing/nlp-projekt/tmp/\"\n",
    "lst_FILES = glob.glob(DIR_PATH+'*.txt')\n",
    "\n",
    "found_pattern = []\n",
    "\n",
    "for FILE in lst_FILES:\n",
    "    with open(os.path.join(FILE), mode=\"r\", encoding=CHARACTER_ENCODING) as f:\n",
    "        content = f.read()\n",
    "        \n",
    "        found_pattern += re.findall(pattern1, content)\n",
    "        found_pattern += re.findall(pattern2, content)\n",
    "        found_pattern += re.findall(pattern3, content)\n",
    "        \n",
    "print(\"Found \", len(found_pattern), \" patterns\")"
   ]
  },
  {
   "cell_type": "code",
   "execution_count": 121,
   "metadata": {},
   "outputs": [],
   "source": [
    "corpus = nltk.corpus.ConllCorpusReader('.', 'tiger_release_aug07.corrected.16012013.conll09', ['ignore', 'words', 'ignore','ignore', 'pos'], encoding='utf-8')\n",
    "lst_Vokabular = [token.lower()+\".\" for token in corpus.words()]"
   ]
  },
  {
   "cell_type": "code",
   "execution_count": 122,
   "metadata": {},
   "outputs": [],
   "source": [
    "# 2. Möglichkeit zu zählen\n",
    "cnt = Counter() \n",
    "cnt.update(found_pattern)\n",
    "lst_MostCommon = cnt.most_common()\n",
    "\n",
    "values = []\n",
    "keys = []\n",
    "for value, key in lst_MostCommon:\n",
    "    if value.lower() not in lst_Vokabular:\n",
    "        values.append(value)\n",
    "        keys.append(key)"
   ]
  },
  {
   "cell_type": "code",
   "execution_count": 124,
   "metadata": {},
   "outputs": [
    {
     "name": "stdout",
     "output_type": "stream",
     "text": [
      "Len without corpus:  192380\n",
      "Len with corpus:  165552\n"
     ]
    }
   ],
   "source": [
    "print(\"Len without corpus: \", len(lst_MostCommon))\n",
    "print(\"Len with corpus: \", len(values))"
   ]
  },
  {
   "cell_type": "code",
   "execution_count": 128,
   "metadata": {},
   "outputs": [],
   "source": [
    "# %matplotlib inline\n",
    "# plt.rcParams['figure.figsize'] = [10,10]\n",
    "# for outline plot\n",
    "%matplotlib qt\n",
    "\n",
    "plt.bar(x=values[:100], height=keys[:100])\n",
    "plt.show()"
   ]
  },
  {
   "cell_type": "code",
   "execution_count": null,
   "metadata": {},
   "outputs": [],
   "source": []
  },
  {
   "cell_type": "code",
   "execution_count": 129,
   "metadata": {},
   "outputs": [
    {
     "data": {
      "text/plain": [
       "<AxesSubplot:>"
      ]
     },
     "execution_count": 129,
     "metadata": {},
     "output_type": "execute_result"
    }
   ],
   "source": [
    "import seaborn as sns\n",
    "\n",
    "sns.barplot(x=values[:100], y=keys[:100])"
   ]
  },
  {
   "cell_type": "code",
   "execution_count": null,
   "metadata": {},
   "outputs": [],
   "source": [
    "np.save(\"/Values.npy\", values)\n",
    "np.save(\"/Counts.npy\", keys)"
   ]
  }
 ],
 "metadata": {
  "interpreter": {
   "hash": "194c6af805e7b83111330e36dae3393678c2fe444110e28eacf0ade677259a96"
  },
  "kernelspec": {
   "display_name": "Python 3.9.7 64-bit ('AI': conda)",
   "language": "python",
   "name": "python3"
  },
  "language_info": {
   "codemirror_mode": {
    "name": "ipython",
    "version": 3
   },
   "file_extension": ".py",
   "mimetype": "text/x-python",
   "name": "python",
   "nbconvert_exporter": "python",
   "pygments_lexer": "ipython3",
   "version": "3.9.7"
  },
  "orig_nbformat": 4
 },
 "nbformat": 4,
 "nbformat_minor": 2
}
